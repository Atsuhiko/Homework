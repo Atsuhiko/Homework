{
 "cells": [
  {
   "cell_type": "markdown",
   "metadata": {},
   "source": [
    "# クラスについて"
   ]
  },
  {
   "cell_type": "code",
   "execution_count": 1,
   "metadata": {},
   "outputs": [],
   "source": [
    "# 事例で覚えましょう。(チートシート p43)\n",
    "\n",
    "class Foo:\n",
    "    clsvar = 0 # クラス変数。今までに何個インスタンスが記録されたかを記録\n",
    "                # --> インスタンスの初期化する前に定義することでリセットされない\n",
    "    \n",
    "    def __init__(self, name=\"\"): # インスタンスが初期化したときに必ず実行される関数\n",
    "                                # この場合、初期値として name に空の文字列を入れている\n",
    "        Foo.clsvar +=1          # クラス変数の値をインクリメント\n",
    "        self.name = name        # インスタンス変数はここに書く。右と左のメンバ名は同じ\n",
    "    \n",
    "    def instance_method(self):  # :を忘れずに。だいたい自分でクラスを作るときは、インスタンスメソッドを書く\n",
    "        print(\"instance_method\")\n",
    "        print(\"cls var: \", self.clsvar)  # self.クラス変数名で呼び出す\n",
    "        print(\"instance var; \", self.name)\n",
    "    \n",
    "    @classmethod\n",
    "    def cls_method(cls):\n",
    "        print(\"in cls_method\")\n",
    "        print(\"cls var: \", cls.clsvar) # cls.クラス変数名で呼び出す\n",
    "    \n",
    "    @staticmethod\n",
    "    def static_method():\n",
    "        print(\"in static_metjod\")\n",
    "        print(\"cls var: \", Foo.clsvar) # クラス名.クラス変数名で呼び出す"
   ]
  },
  {
   "cell_type": "code",
   "execution_count": 2,
   "metadata": {},
   "outputs": [],
   "source": [
    "# インスタンスの生成\n",
    "\n",
    "f = Foo(\"foo\") # f はクラス Foo のインスタンス、インスタンス変数の文字列の \"foo\" を引数に入れた"
   ]
  },
  {
   "cell_type": "code",
   "execution_count": 3,
   "metadata": {},
   "outputs": [
    {
     "name": "stdout",
     "output_type": "stream",
     "text": [
      "instance_method\n",
      "cls var:  1\n",
      "instance var;  foo\n"
     ]
    }
   ],
   "source": [
    "# インスタンスメソッド\n",
    "\n",
    "f.instance_method() # インスタンスメソッド呼び出しにはインスタンスを使う"
   ]
  },
  {
   "cell_type": "code",
   "execution_count": 4,
   "metadata": {},
   "outputs": [
    {
     "ename": "TypeError",
     "evalue": "instance_method() missing 1 required positional argument: 'self'",
     "output_type": "error",
     "traceback": [
      "\u001b[1;31m---------------------------------------------------------------------------\u001b[0m",
      "\u001b[1;31mTypeError\u001b[0m                                 Traceback (most recent call last)",
      "\u001b[1;32m<ipython-input-4-a34d23756a80>\u001b[0m in \u001b[0;36m<module>\u001b[1;34m\u001b[0m\n\u001b[1;32m----> 1\u001b[1;33m \u001b[0mFoo\u001b[0m\u001b[1;33m.\u001b[0m\u001b[0minstance_method\u001b[0m\u001b[1;33m(\u001b[0m\u001b[1;33m)\u001b[0m \u001b[1;31m# エラーになる\u001b[0m\u001b[1;33m\u001b[0m\u001b[1;33m\u001b[0m\u001b[0m\n\u001b[0m",
      "\u001b[1;31mTypeError\u001b[0m: instance_method() missing 1 required positional argument: 'self'"
     ]
    }
   ],
   "source": [
    "Foo.instance_method() # エラーになる"
   ]
  },
  {
   "cell_type": "code",
   "execution_count": 4,
   "metadata": {},
   "outputs": [
    {
     "name": "stdout",
     "output_type": "stream",
     "text": [
      "in cls_method\n",
      "cls var:  1\n",
      "in cls_method\n",
      "cls var:  1\n"
     ]
    }
   ],
   "source": [
    "# クラスメソッド\n",
    "\n",
    "f.cls_method()    # クラスメソッド呼び出しにはインスタンスメソッドを使う\n",
    "Foo.cls_method()  # クラスメソッド呼び出しにはクラスも使える"
   ]
  },
  {
   "cell_type": "code",
   "execution_count": 7,
   "metadata": {},
   "outputs": [
    {
     "name": "stdout",
     "output_type": "stream",
     "text": [
      "in static_metjod\n",
      "cls var:  1\n"
     ]
    }
   ],
   "source": [
    "# スタティックメソッド\n",
    "\n",
    "Foo.static_method() # スタティックメソッド呼び出しはクラスしか使えない"
   ]
  },
  {
   "cell_type": "code",
   "execution_count": 8,
   "metadata": {},
   "outputs": [
    {
     "data": {
      "text/plain": [
       "'foo'"
      ]
     },
     "execution_count": 8,
     "metadata": {},
     "output_type": "execute_result"
    }
   ],
   "source": [
    "# インスタンス変数（メンバ）\n",
    "\n",
    "f.name"
   ]
  },
  {
   "cell_type": "code",
   "execution_count": 9,
   "metadata": {},
   "outputs": [
    {
     "ename": "AttributeError",
     "evalue": "type object 'Foo' has no attribute 'name'",
     "output_type": "error",
     "traceback": [
      "\u001b[1;31m---------------------------------------------------------------------------\u001b[0m",
      "\u001b[1;31mAttributeError\u001b[0m                            Traceback (most recent call last)",
      "\u001b[1;32m<ipython-input-9-043afb97b4f5>\u001b[0m in \u001b[0;36m<module>\u001b[1;34m\u001b[0m\n\u001b[1;32m----> 1\u001b[1;33m \u001b[0mFoo\u001b[0m\u001b[1;33m.\u001b[0m\u001b[0mname\u001b[0m \u001b[1;31m# エラーになる\u001b[0m\u001b[1;33m\u001b[0m\u001b[1;33m\u001b[0m\u001b[0m\n\u001b[0m",
      "\u001b[1;31mAttributeError\u001b[0m: type object 'Foo' has no attribute 'name'"
     ]
    }
   ],
   "source": [
    "Foo.name # エラーになる"
   ]
  },
  {
   "cell_type": "code",
   "execution_count": 10,
   "metadata": {},
   "outputs": [
    {
     "data": {
      "text/plain": [
       "1"
      ]
     },
     "execution_count": 10,
     "metadata": {},
     "output_type": "execute_result"
    }
   ],
   "source": [
    "# クラス変数\n",
    "\n",
    "f.clsvar"
   ]
  },
  {
   "cell_type": "code",
   "execution_count": 11,
   "metadata": {},
   "outputs": [
    {
     "name": "stdout",
     "output_type": "stream",
     "text": [
      "2\n",
      "2\n",
      "2\n"
     ]
    }
   ],
   "source": [
    "b = Foo(\"bar\") # クラスの呼び出し２回目\n",
    "\n",
    "print(b.clsvar)    # インスタンスからクラス変数を呼び出す\n",
    "print(f.clsvar)    # インスタンスからクラス変数を呼び出す\n",
    "print(Foo.clsvar)  # クラスからクラス変数を呼び出す"
   ]
  },
  {
   "cell_type": "code",
   "execution_count": null,
   "metadata": {},
   "outputs": [],
   "source": []
  }
 ],
 "metadata": {
  "kernelspec": {
   "display_name": "Python 3",
   "language": "python",
   "name": "python3"
  },
  "language_info": {
   "codemirror_mode": {
    "name": "ipython",
    "version": 3
   },
   "file_extension": ".py",
   "mimetype": "text/x-python",
   "name": "python",
   "nbconvert_exporter": "python",
   "pygments_lexer": "ipython3",
   "version": "3.8.6"
  }
 },
 "nbformat": 4,
 "nbformat_minor": 2
}
