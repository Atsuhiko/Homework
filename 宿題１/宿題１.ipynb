{
 "cells": [
  {
   "cell_type": "markdown",
   "metadata": {},
   "source": [
    "## 宿題１：関数\n",
    "\n",
    "以下の２つの方法で、1から100までを足す関数を作って実行しなさい。\n",
    "\n",
    "(1) 1 + 2 + 3 + ... + 99 + 100 と順番に足す方法（ヒント、for または while ループと使う）\n",
    "\n",
    "(2) ガウスが考えた定理を使う　→ (1+100) + (2+99) + ... + (50+51) → (1+100)*100/2"
   ]
  },
  {
   "cell_type": "code",
   "execution_count": 1,
   "metadata": {},
   "outputs": [],
   "source": [
    "def Sum_seq_1(n):\n",
    "    s = 0\n",
    "    for i in range(n+1):\n",
    "        s = s + i\n",
    "        #i += i # for ループ内では i は勝手に増えるのでこの行は不要\n",
    "    print('The answer is',s,'.')"
   ]
  },
  {
   "cell_type": "code",
   "execution_count": 2,
   "metadata": {},
   "outputs": [
    {
     "name": "stdout",
     "output_type": "stream",
     "text": [
      "The answer is 55 .\n"
     ]
    }
   ],
   "source": [
    "Sum_seq_1(10)"
   ]
  },
  {
   "cell_type": "code",
   "execution_count": 1,
   "metadata": {
    "scrolled": true
   },
   "outputs": [
    {
     "name": "stdout",
     "output_type": "stream",
     "text": [
      "0\n",
      "1\n",
      "3\n",
      "6\n",
      "10\n",
      "15\n",
      "21\n",
      "28\n",
      "36\n",
      "45\n",
      "55\n"
     ]
    }
   ],
   "source": [
    "s = 0\n",
    "for i in range(11):\n",
    "    s = s + i\n",
    "    #i += i\n",
    "    print(s)"
   ]
  },
  {
   "cell_type": "code",
   "execution_count": 4,
   "metadata": {},
   "outputs": [],
   "source": [
    "def Sum_seq_2(m,n):\n",
    "    s = 0\n",
    "    if m < n:\n",
    "        for i in range(m,n+1):\n",
    "            s = s + i\n",
    "            #print(s)\n",
    "            #i += i # 不要\n",
    "        print('The answer is',s,'.')\n",
    "    else:\n",
    "        print('Error')"
   ]
  },
  {
   "cell_type": "code",
   "execution_count": 5,
   "metadata": {
    "scrolled": true
   },
   "outputs": [
    {
     "name": "stdout",
     "output_type": "stream",
     "text": [
      "The answer is 5047 .\n"
     ]
    }
   ],
   "source": [
    "Sum_seq_2(3,100)"
   ]
  },
  {
   "cell_type": "code",
   "execution_count": 6,
   "metadata": {},
   "outputs": [],
   "source": [
    "def Sum_seq_3(m,n):\n",
    "    i=m\n",
    "    s=0\n",
    "    if m < n:\n",
    "        while i < n+1:\n",
    "            s = s + i\n",
    "            #print(s)\n",
    "            i +=1 # whileループでは必要。この行を除くと無限ループに入ってしまう。\n",
    "        print('The answer is',s,'.')\n",
    "    else:\n",
    "        print('Error')"
   ]
  },
  {
   "cell_type": "code",
   "execution_count": 7,
   "metadata": {},
   "outputs": [
    {
     "name": "stdout",
     "output_type": "stream",
     "text": [
      "The answer is 5050 .\n"
     ]
    }
   ],
   "source": [
    "Sum_seq_3(1,100)"
   ]
  },
  {
   "cell_type": "code",
   "execution_count": 8,
   "metadata": {},
   "outputs": [],
   "source": [
    "def Sum_seq_4(m,n):\n",
    "    if m < n:\n",
    "        s = (m+n)*(n-m+1)/2\n",
    "        s = int(s)\n",
    "        print('The answer is',s,'.')\n",
    "    else:\n",
    "        print('Error')"
   ]
  },
  {
   "cell_type": "code",
   "execution_count": 9,
   "metadata": {},
   "outputs": [
    {
     "name": "stdout",
     "output_type": "stream",
     "text": [
      "The answer is 5050 .\n"
     ]
    }
   ],
   "source": [
    "Sum_seq_4(1,100)"
   ]
  },
  {
   "cell_type": "code",
   "execution_count": 10,
   "metadata": {},
   "outputs": [],
   "source": [
    "# 一人の生徒さんの回答\n",
    "import numpy as np\n",
    "\n",
    "def sumup_c(m,n):\n",
    "    if m < n:\n",
    "        a = np.arange(m,n+1)\n",
    "        return a.sum()\n",
    "    else:\n",
    "        return 'm should be less than n'"
   ]
  },
  {
   "cell_type": "code",
   "execution_count": 11,
   "metadata": {},
   "outputs": [
    {
     "data": {
      "text/plain": [
       "5050"
      ]
     },
     "execution_count": 11,
     "metadata": {},
     "output_type": "execute_result"
    }
   ],
   "source": [
    "sumup_c(1, 100)"
   ]
  },
  {
   "cell_type": "code",
   "execution_count": null,
   "metadata": {},
   "outputs": [],
   "source": []
  }
 ],
 "metadata": {
  "kernelspec": {
   "display_name": "Python 3",
   "language": "python",
   "name": "python3"
  },
  "language_info": {
   "codemirror_mode": {
    "name": "ipython",
    "version": 3
   },
   "file_extension": ".py",
   "mimetype": "text/x-python",
   "name": "python",
   "nbconvert_exporter": "python",
   "pygments_lexer": "ipython3",
   "version": "3.7.3"
  }
 },
 "nbformat": 4,
 "nbformat_minor": 2
}
